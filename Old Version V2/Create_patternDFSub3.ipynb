{
 "cells": [
  {
   "cell_type": "markdown",
   "metadata": {},
   "source": [
    "##### The Objective:,\n",
    "    Indentify Patterns of appliance from UCI ,\n",
    "    Individual household electric power consumption Data Set,\n",
    "    https://archive.ics.uci.edu/ml/datasets/individual+household+electric+power+consumption,\n",
    "    ##### Version 1,\n",
    "    ##### 10/02/2020\n",
    "    \n",
    "    Create Data frame for the task of find patterns in the data"
   ]
  },
  {
   "cell_type": "markdown",
   "metadata": {},
   "source": [
    "##### Load Data set\n"
   ]
  },
  {
   "cell_type": "code",
   "execution_count": 1,
   "metadata": {},
   "outputs": [],
   "source": [
    "import pandas as pd\n",
    "\n",
    "UCI_IHC_DF = pd.read_csv('C:/Users/pe-cb\\\\Documents/Projects-onJupyterN/EnergyConsumption_detectApliance/Data/household_power_consumption/household_power_consumption.txt',\n",
    "                             sep = ';', # is separeted by \n",
    "                             header = 0,\n",
    "                             na_filter=True,\n",
    "                             na_values= '?') # Nan is ? in the data set"
   ]
  },
  {
   "cell_type": "code",
   "execution_count": 2,
   "metadata": {},
   "outputs": [
    {
     "name": "stdout",
     "output_type": "stream",
     "text": [
      "Date                      object\n",
      "Time                      object\n",
      "Global_active_power      float64\n",
      "Global_reactive_power    float64\n",
      "Voltage                  float64\n",
      "Global_intensity         float64\n",
      "Sub_metering_1           float64\n",
      "Sub_metering_2           float64\n",
      "Sub_metering_3           float64\n",
      "dtype: object\n",
      "Index(['Date', 'Time', 'Global_active_power', 'Global_reactive_power',\n",
      "       'Voltage', 'Global_intensity', 'Sub_metering_1', 'Sub_metering_2',\n",
      "       'Sub_metering_3'],\n",
      "      dtype='object')\n",
      "Attribute Information: \n",
      " 1.date:.Date in format dd/mm/yyyy \n",
      " 2.time: time in format hh:mm:ss \n",
      " 3.global_active_power: household global minute-averaged active power (in kilowatt) \n",
      " 4.global_reactive_power: household global minute-averaged reactive power (in kilowatt) \n",
      " 5.voltage: minute-averaged voltage (in volt) \n",
      " 6.global_intensity: household global minute-averaged current intensity (in ampere) \n",
      " 7.sub_metering_1: energy sub-metering No. 1 (in watt-hour of active energy).\n",
      " It corresponds to the kitchen, containing mainly a dishwasher, an oven and a microwave (hot plates are not electric but gas powered).\n",
      " 8.sub_metering_2: energy sub-metering No. 2 (in watt-hour of active energy).\n",
      " It corresponds to the laundry room, containing a washing-machine, a tumble-drier, a refrigerator and a light. \n",
      " 9.sub_metering_3: energy sub-metering No. 3 (in watt-hour of active energy).\n",
      " It corresponds to an electric water-heater and an air-conditioner.\n"
     ]
    },
    {
     "data": {
      "text/html": [
       "<div>\n",
       "<style scoped>\n",
       "    .dataframe tbody tr th:only-of-type {\n",
       "        vertical-align: middle;\n",
       "    }\n",
       "\n",
       "    .dataframe tbody tr th {\n",
       "        vertical-align: top;\n",
       "    }\n",
       "\n",
       "    .dataframe thead th {\n",
       "        text-align: right;\n",
       "    }\n",
       "</style>\n",
       "<table border=\"1\" class=\"dataframe\">\n",
       "  <thead>\n",
       "    <tr style=\"text-align: right;\">\n",
       "      <th></th>\n",
       "      <th>Date</th>\n",
       "      <th>Time</th>\n",
       "      <th>Global_active_power</th>\n",
       "      <th>Global_reactive_power</th>\n",
       "      <th>Voltage</th>\n",
       "      <th>Global_intensity</th>\n",
       "      <th>Sub_metering_1</th>\n",
       "      <th>Sub_metering_2</th>\n",
       "      <th>Sub_metering_3</th>\n",
       "    </tr>\n",
       "  </thead>\n",
       "  <tbody>\n",
       "    <tr>\n",
       "      <th>0</th>\n",
       "      <td>16/12/2006</td>\n",
       "      <td>17:24:00</td>\n",
       "      <td>4.216</td>\n",
       "      <td>0.418</td>\n",
       "      <td>234.84</td>\n",
       "      <td>18.4</td>\n",
       "      <td>0.0</td>\n",
       "      <td>1.0</td>\n",
       "      <td>17.0</td>\n",
       "    </tr>\n",
       "    <tr>\n",
       "      <th>1</th>\n",
       "      <td>16/12/2006</td>\n",
       "      <td>17:25:00</td>\n",
       "      <td>5.360</td>\n",
       "      <td>0.436</td>\n",
       "      <td>233.63</td>\n",
       "      <td>23.0</td>\n",
       "      <td>0.0</td>\n",
       "      <td>1.0</td>\n",
       "      <td>16.0</td>\n",
       "    </tr>\n",
       "    <tr>\n",
       "      <th>2</th>\n",
       "      <td>16/12/2006</td>\n",
       "      <td>17:26:00</td>\n",
       "      <td>5.374</td>\n",
       "      <td>0.498</td>\n",
       "      <td>233.29</td>\n",
       "      <td>23.0</td>\n",
       "      <td>0.0</td>\n",
       "      <td>2.0</td>\n",
       "      <td>17.0</td>\n",
       "    </tr>\n",
       "    <tr>\n",
       "      <th>3</th>\n",
       "      <td>16/12/2006</td>\n",
       "      <td>17:27:00</td>\n",
       "      <td>5.388</td>\n",
       "      <td>0.502</td>\n",
       "      <td>233.74</td>\n",
       "      <td>23.0</td>\n",
       "      <td>0.0</td>\n",
       "      <td>1.0</td>\n",
       "      <td>17.0</td>\n",
       "    </tr>\n",
       "    <tr>\n",
       "      <th>4</th>\n",
       "      <td>16/12/2006</td>\n",
       "      <td>17:28:00</td>\n",
       "      <td>3.666</td>\n",
       "      <td>0.528</td>\n",
       "      <td>235.68</td>\n",
       "      <td>15.8</td>\n",
       "      <td>0.0</td>\n",
       "      <td>1.0</td>\n",
       "      <td>17.0</td>\n",
       "    </tr>\n",
       "  </tbody>\n",
       "</table>\n",
       "</div>"
      ],
      "text/plain": [
       "         Date      Time  Global_active_power  Global_reactive_power  Voltage  \\\n",
       "0  16/12/2006  17:24:00                4.216                  0.418   234.84   \n",
       "1  16/12/2006  17:25:00                5.360                  0.436   233.63   \n",
       "2  16/12/2006  17:26:00                5.374                  0.498   233.29   \n",
       "3  16/12/2006  17:27:00                5.388                  0.502   233.74   \n",
       "4  16/12/2006  17:28:00                3.666                  0.528   235.68   \n",
       "\n",
       "   Global_intensity  Sub_metering_1  Sub_metering_2  Sub_metering_3  \n",
       "0              18.4             0.0             1.0            17.0  \n",
       "1              23.0             0.0             1.0            16.0  \n",
       "2              23.0             0.0             2.0            17.0  \n",
       "3              23.0             0.0             1.0            17.0  \n",
       "4              15.8             0.0             1.0            17.0  "
      ]
     },
     "execution_count": 2,
     "metadata": {},
     "output_type": "execute_result"
    }
   ],
   "source": [
    "print(UCI_IHC_DF.dtypes)\n",
    "print(UCI_IHC_DF.columns)\n",
    "UCI_IHC_DF.isnull().sum()\n",
    "print(\"Attribute Information: \\n 1.date:.Date in format dd/mm/yyyy \\n 2.time: time in format hh:mm:ss \\n 3.global_active_power: household global minute-averaged active power (in kilowatt) \\n 4.global_reactive_power: household global minute-averaged reactive power (in kilowatt) \\n 5.voltage: minute-averaged voltage (in volt) \\n 6.global_intensity: household global minute-averaged current intensity (in ampere) \\n 7.sub_metering_1: energy sub-metering No. 1 (in watt-hour of active energy).\\n It corresponds to the kitchen, containing mainly a dishwasher, an oven and a microwave (hot plates are not electric but gas powered).\\n 8.sub_metering_2: energy sub-metering No. 2 (in watt-hour of active energy).\\n It corresponds to the laundry room, containing a washing-machine, a tumble-drier, a refrigerator and a light. \\n 9.sub_metering_3: energy sub-metering No. 3 (in watt-hour of active energy).\\n It corresponds to an electric water-heater and an air-conditioner.\"),\n",
    "UCI_IHC_DF.head()"
   ]
  },
  {
   "cell_type": "markdown",
   "metadata": {},
   "source": [
    "##### Create a Date Time column where date + time columns are mixed for time series"
   ]
  },
  {
   "cell_type": "code",
   "execution_count": 3,
   "metadata": {},
   "outputs": [],
   "source": [
    "UCI_IHC_DF['DateTime'] = UCI_IHC_DF['Date'].str.cat(UCI_IHC_DF['Time'], sep=' ') # is possible to cat multiple columns \n",
    "UCI_IHC_DF.drop(['Date', 'Time'], axis=1, inplace=True)"
   ]
  },
  {
   "cell_type": "markdown",
   "metadata": {},
   "source": [
    "##### Define DataTime as index and as a time series object"
   ]
  },
  {
   "cell_type": "code",
   "execution_count": 4,
   "metadata": {},
   "outputs": [],
   "source": [
    "UCI_IHC_DF['DateTime'] = pd.to_datetime(UCI_IHC_DF['DateTime'], format='%d/%m/%Y %H:%M:%S', dayfirst=True)\n",
    "UCI_IHC_DF.set_index('DateTime',inplace=True)\n",
    "\n",
    "# exclude NAN\n",
    "\n",
    "UCI_IHC_DF.dropna(inplace=True,axis=0)"
   ]
  },
  {
   "cell_type": "code",
   "execution_count": 5,
   "metadata": {},
   "outputs": [
    {
     "data": {
      "image/png": "[encoded data removed]",
      "text/plain": [
       "<Figure size 432x288 with 1 Axes>"
      ]
     },
     "metadata": {
      "needs_background": "light"
     },
     "output_type": "display_data"
    }
   ],
   "source": [
    "import matplotlib.pyplot as plt\n",
    "\n",
    "\n",
    "fig, ax = plt.subplots()\n",
    "plt.plot_date(UCI_IHC_DF.index[0:60], UCI_IHC_DF.Sub_metering_3.iloc[0:60],fmt='-g' )\n",
    "ax.xaxis.set_tick_params(rotation=30, labelsize=10)\n",
    "ax.set_ylabel('watt-hour',fontdict={'fontsize': 13})\n",
    "plt.title('Sub_m_2 Pattern by Minute', fontdict={'fontsize': 20})\n",
    "plt.show()"
   ]
  },
  {
   "cell_type": "markdown",
   "metadata": {},
   "source": [
    "##### The idea\n",
    "\n",
    "My idea is to create a model that will use the last minutes from the data to find predict the patterns in the data\n",
    "\n",
    "For that I need to create a data frame where the each minute is store in a different columns"
   ]
  },
  {
   "cell_type": "code",
   "execution_count": 6,
   "metadata": {},
   "outputs": [],
   "source": [
    "import numpy as np\n",
    "from itertools import cycle\n",
    "\n",
    "# Create the empty data frame\n",
    "\n",
    "subm2_pattern_df = pd.DataFrame(columns= range(0,30), index=range(0,24*30*3))\n",
    "\n",
    "# Control the row in the empty data frame\n",
    "\n",
    "row60 = 0\n",
    "\n",
    "for obs, column in zip(range(0,(24*60*30*3)), cycle(range(0,30))): # go togheter the size of the data frame + every one of the columns\n",
    "    if obs%60 == 0 and obs != 0 :\n",
    "        row60 += 1\n",
    "    subm2_pattern_df.iloc[row60,column] = UCI_IHC_DF.Sub_metering_3.iloc[obs]\n",
    "    "
   ]
  },
  {
   "cell_type": "code",
   "execution_count": 7,
   "metadata": {},
   "outputs": [],
   "source": [
    "subm2_pattern_df.to_csv('~\\Documents\\Projects-onJupyterN\\EnergyConsumption_detectApliance\\Data\\subm3_pattern.csv', sep=',')"
   ]
  }
 ],
 "metadata": {
  "kernelspec": {
   "display_name": "Python 3",
   "language": "python",
   "name": "python3"
  },
  "language_info": {
   "codemirror_mode": {
    "name": "ipython",
    "version": 3
   },
   "file_extension": ".py",
   "mimetype": "text/x-python",
   "name": "python",
   "nbconvert_exporter": "python",
   "pygments_lexer": "ipython3",
   "version": "3.8.1"
  }
 },
 "nbformat": 4,
 "nbformat_minor": 4
}
